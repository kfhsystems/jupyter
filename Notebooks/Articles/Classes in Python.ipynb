{
 "cells": [
  {
   "cell_type": "markdown",
   "id": "f4f7d186-0a70-485e-a54c-dd299bc2da5e",
   "metadata": {
    "tags": [],
    "user_expressions": []
   },
   "source": [
    "\n",
    "\n",
    "Author: Karshi Hasanov \\\n",
    "Date: May 3, 2023 \\\n",
    "Last Modified: May 10, 2023\n"
   ]
  },
  {
   "cell_type": "markdown",
   "id": "2427c4d8-abb9-4870-a89d-43a01bcdff11",
   "metadata": {
    "user_expressions": []
   },
   "source": [
    "# Getting Started With Python Classes\n",
    "\n",
    "Python is a multiparadigm programming language that supports object-oriented programming (OOP) through classes that you can define with the class keyword. \n",
    "You can think of a class as a piece of code that specifies the data and behavior that represent and model a particular type of object.\n",
    "\n",
    "What is a **class** in Python? A common analogy is that a __class__ is like the blueprint for a house. You can use the blueprint to create several houses and even a complete neighborhood. Each concrete house is an object or instance that’s derived from the blueprint.\n",
    "\n",
    "Each instance can have its own properties, such as color, owner, and interior design. These properties carry what’s commonly known as the object’s state. Instances can also have different behaviors, such as locking the doors and windows, opening the garage door, turning the lights on and off, watering the garden, and more.\n",
    "\n",
    "In OOP, you commonly use the term attributes to refer to the properties or data associated with a specific object of a given class. In Python, attributes are variables defined inside a class with the purpose of storing all the required data for the class to work.\n",
    "\n",
    "Similarly, you’ll use the term methods to refer to the different behaviors that objects will show. Methods are functions that you define within a class. These functions typically operate on or with the attributes of the underlying instance or class. Attributes and methods are collectively referred to as members of a class or object.\n",
    "\n",
    "You can write fully functional classes to model the real world. These classes will help you better organize your code and solve complex programming problems.\n",
    "\n",
    "For example, you can use classes to create objects that emulate people, animals, vehicles, books, buildings, cars, or other objects. You can also model virtual objects, such as a web server, directory tree, chatbot, file manager, and more.\n",
    "\n",
    "Finally, you can use classes to build class hierarchies. This way, you’ll promote code reuse and remove repetition throughout your codebase.\n",
    "\n",
    "In this tutorial, you’ll learn a lot about classes and all the cool things that you can do with them. To kick things off, you’ll start by defining your first class in Python. Then you’ll dive into other topics related to instances, attributes, and methods.\n",
    "\n",
    "## Defining a Class in Python\n",
    "To define a class, you need to use the **class** keyword followed by the class name and a colon, just like you’d do for other compound statements in Python. Then you must define the class body, which will start at the next indentation level:\n",
    "```Python\n",
    "class ClassName:\n",
    "    # Class body\n",
    "    pass\n",
    "```\n",
    "In a class body, you can define attributes and methods as needed. As you already learned, attributes are variables that hold the class data, while methods are functions that provide behavior and typically act on the class data.\n",
    "\n",
    "As an example of how to define attributes and methods, say that you need a Circle class to model different circles in a drawing application. Initially, your class will have a single attribute to hold the radius. It’ll also have a method to calculate the circle’s area:\n"
   ]
  },
  {
   "cell_type": "code",
   "execution_count": 19,
   "id": "aaebfd5f-0752-406c-a63b-5af6a84258d6",
   "metadata": {
    "tags": []
   },
   "outputs": [],
   "source": [
    "# circle.py\n",
    "import math\n",
    "\n",
    "class Circle:\n",
    "    def __init__(self, radius):\n",
    "        self.radius = radius\n",
    "\n",
    "    def calculate_area(self):\n",
    "        return round(math.pi * self.radius ** 2, 2)"
   ]
  },
  {
   "cell_type": "markdown",
   "id": "81241e2c-330d-4dc1-92ee-de0f8cf59e79",
   "metadata": {},
   "source": [
    "In this code snippet, you define Circle using the class keyword. Inside the class, you write two methods. The .__init__() method has a special meaning in Python classes. This method is known as the object initializer because it defines and sets the initial values for your attributes. You’ll learn more about this method in the Instance Attributes section.\n",
    "\n",
    "The second method of Circle is conveniently named .calculate_area() and will compute the area of a specific circle by using its radius. It’s common for method names to contain a verb, such as calculate, to describe an action the method performs. In this example, you’ve used the math module to access the pi constant as it’s defined in that module.\n",
    "\n",
    "## Creating Objects From a Class in Python\n",
    "The action of creating concrete objects from an existing class is known as instantiation. With every instantiation, you create a new object of the target class. To get your hands dirty, go ahead and make a couple of instances of Circle by running the following code in a Python REPL session:"
   ]
  },
  {
   "cell_type": "code",
   "execution_count": 15,
   "id": "51cc41d8-c9ce-4fde-85fe-ffb3d4c5892b",
   "metadata": {
    "tags": []
   },
   "outputs": [],
   "source": [
    "circle = Circle(42) # Create a Circle object with the Radius = 42"
   ]
  },
  {
   "cell_type": "code",
   "execution_count": 13,
   "id": "b951c40f-f226-45e1-9040-ff1bf975b61a",
   "metadata": {
    "tags": []
   },
   "outputs": [
    {
     "name": "stdout",
     "output_type": "stream",
     "text": [
      "<__main__.Circle object at 0x113ee2e60>\n"
     ]
    }
   ],
   "source": [
    "print(circle)"
   ]
  },
  {
   "cell_type": "markdown",
   "id": "b0cf7a8c-41e4-4873-bd0c-524ea254c2a9",
   "metadata": {},
   "source": [
    "## Accessing Attributes and Methods\n",
    "In Python, you can access the attributes and methods of an object by using dot notation with the dot operator. The following snippet of code shows the required syntax:\n",
    "```Python\n",
    "# Get the attribute :\n",
    "obj.attribute_name\n",
    "\n",
    "# Call the method:\n",
    "obj.method_name()\n",
    "```"
   ]
  },
  {
   "cell_type": "markdown",
   "id": "7dfb9b49-42d2-4664-a8e4-c24e23150935",
   "metadata": {},
   "source": [
    "From our \"Circle\" object:"
   ]
  },
  {
   "cell_type": "code",
   "execution_count": 16,
   "id": "daf15e30-aa05-44a7-9986-00f5211363f9",
   "metadata": {
    "tags": []
   },
   "outputs": [
    {
     "data": {
      "text/plain": [
       "42"
      ]
     },
     "execution_count": 16,
     "metadata": {},
     "output_type": "execute_result"
    }
   ],
   "source": [
    "# Get the Radius attribute of the Circle object\n",
    "circle.radius"
   ]
  },
  {
   "cell_type": "code",
   "execution_count": 18,
   "id": "dc3d37a0-c5ac-4f4f-aec6-e84a5a943a30",
   "metadata": {
    "tags": []
   },
   "outputs": [
    {
     "data": {
      "text/plain": [
       "5541.77"
      ]
     },
     "execution_count": 18,
     "metadata": {},
     "output_type": "execute_result"
    }
   ],
   "source": [
    "# Calculate the Arear of the circle using its method:\n",
    "circle.calculate_area()"
   ]
  },
  {
   "cell_type": "markdown",
   "id": "ab79626d-f4ea-46b0-9145-b1203a77002f",
   "metadata": {
    "user_expressions": []
   },
   "source": [
    "# Naming Conventions in Python Classes\n",
    "Before continuing diving into classes, you’ll need to be aware of some important naming conventions that Python uses in the context of classes. Python is a flexible language that loves freedom and doesn’t like to have explicit restrictions. Because of that, the language and the community rely on conventions rather than restrictions.\n",
    "\n",
    "```{note}\n",
    "Most Python programmers follow the **snake_case** naming convention, which involves using underscores ( **_** ) to separate multiple words. However, the recommended naming convention for Python classes is the PascalCase, where each word is capitalized.\n",
    "In the following two sections, you’ll learn about two important naming conventions that apply to class attributes.\n",
    "```\n",
    "\n",
    "## Public vs Non-Public Members\n",
    "The first naming convention that you need to know about is related to the fact that Python doesn’t distinguish between **private**, **protected**, and **public** attributes like Java and other languages do. In Python, all attributes are accessible in one way or another. However, Python has a well-established naming convention that you should use to communicate that an attribute or method isn’t intended for use from outside its containing class or object.\n",
    "\n",
    "The naming convention consists of adding a leading underscore to the member’s name. So, in a Python class, you’ll have the following convention:\n",
    "\n",
    "| Member     | Naming                                       | Examples                   |\n",
    "|------------|:--------------------------------------------:|:----------------------------|\n",
    "| Public     | Use the normal naming pattern.               | radius, calculate_area()   |\n",
    "| Non-buplic | Include a leading underscore in names.       | _radius, _calculate_area() |\n",
    "\n",
    "Public members are part of the official interface or API of your classes, while non-public members aren’t intended to be part of that API. This means that you shouldn’t use non-public members outside their defining class.\n",
    "\n",
    "It’s important to note that the second naming convention only indicates that the attribute isn’t intended to be used directly from outside the containing class. It doesn’t prevent direct access, though. For example, you can run obj._name, and you’ll access the content of ._name. However, this is bad practice, and you should avoid it.\n",
    "\n",
    "Non-public members exist only to support the internal implementation of a given class and may be removed at any time, so you shouldn’t rely on them. The existence of these members depends on how the class is implemented. So, you shouldn’t use them directly in client code. If you do, then your code could break at any moment.\n",
    "\n",
    "When writing classes, sometimes it’s hard to decide if an attribute should be public or non-public. This decision will depend on how you want your users to use your classes. In most cases, attributes should be non-public to guarantee the safe use of your classes. A good approach will be to start with all your attributes as non-public and only make them public if real use cases appear.\n",
    "\n",
    "## Name Mangling\n",
    "Another naming convention that you can see and use in Python classes is to add two leading underscores to attribute and method names. This naming convention triggers what’s known as **name mangling**.\n",
    "\n",
    "Name mangling is an automatic name transformation that prepends the class’s name to the member’s name, like in *_ClassName__attribute* or *_ClassName__method*. This results in name hiding. In other words, mangled names aren’t available for direct access. They’re not part of a class’s public API.\n",
    "\n",
    "For example, consider the following sample class:\n"
   ]
  },
  {
   "cell_type": "code",
   "execution_count": 27,
   "id": "97a852a2-d303-4d3b-8632-6f0eb77af645",
   "metadata": {
    "tags": []
   },
   "outputs": [],
   "source": [
    "class KFH:\n",
    "    def __init__(self, value):\n",
    "        self.__value = value\n",
    "    def __method(self):\n",
    "        print(self.__value)"
   ]
  },
  {
   "cell_type": "code",
   "execution_count": 28,
   "id": "d575533d-37e5-48af-b9a8-ccea2a33ec04",
   "metadata": {
    "tags": []
   },
   "outputs": [
    {
     "data": {
      "text/plain": [
       "{'_KFH__value': 'KFH Inc.'}"
      ]
     },
     "execution_count": 28,
     "metadata": {},
     "output_type": "execute_result"
    }
   ],
   "source": [
    "kfh = KFH(\"KFH Inc.\")\n",
    "# We use built-in the vars() function, which returns a dictionary of all the members associated with the given object.\n",
    "vars(kfh)"
   ]
  },
  {
   "cell_type": "code",
   "execution_count": 29,
   "id": "d5a4934f-2504-4ee3-bc21-57e0fa765274",
   "metadata": {
    "tags": []
   },
   "outputs": [
    {
     "ename": "AttributeError",
     "evalue": "'KFH' object has no attribute '__value'",
     "output_type": "error",
     "traceback": [
      "\u001b[0;31m---------------------------------------------------------------------------\u001b[0m",
      "\u001b[0;31mAttributeError\u001b[0m                            Traceback (most recent call last)",
      "Cell \u001b[0;32mIn[29], line 2\u001b[0m\n\u001b[1;32m      1\u001b[0m \u001b[38;5;66;03m# However, we will get an error if we try:\u001b[39;00m\n\u001b[0;32m----> 2\u001b[0m \u001b[43mkfh\u001b[49m\u001b[38;5;241;43m.\u001b[39;49m\u001b[43m__value\u001b[49m\n",
      "\u001b[0;31mAttributeError\u001b[0m: 'KFH' object has no attribute '__value'"
     ]
    }
   ],
   "source": [
    "# However, we will get an error if we try:\n",
    "kfh.__value"
   ]
  },
  {
   "cell_type": "code",
   "execution_count": 24,
   "id": "5b022e77-d9e5-401c-9810-1969bdfd9653",
   "metadata": {
    "tags": []
   },
   "outputs": [],
   "source": [
    "# The same error we will get if we try \"kfh.__method()\""
   ]
  },
  {
   "cell_type": "markdown",
   "id": "2f58afb8-ca0a-48de-9b26-1bc3d82bfc14",
   "metadata": {},
   "source": [
    "In this class, **.\\__value** and **.\\__method()** have two leading underscores, so their names are mangled to **._KFH__value** and **._KFH__method()**, as you can see in the highlighted lines. Python has automatically added the prefix **_KFH** to both names. Because of this internal renaming, you can’t access the attributes from outside the class using their original names. If you try to do it, then you get an **AttributeError**."
   ]
  },
  {
   "cell_type": "code",
   "execution_count": 30,
   "id": "397e5bc4-40d6-4000-b2ce-3d516033bf4d",
   "metadata": {
    "tags": []
   },
   "outputs": [
    {
     "name": "stdout",
     "output_type": "stream",
     "text": [
      "KFH Inc.\n"
     ]
    }
   ],
   "source": [
    "# This works:\n",
    "kfh._KFH__method()"
   ]
  },
  {
   "cell_type": "markdown",
   "id": "e03c8868-7322-411a-9ced-da129d548f44",
   "metadata": {
    "user_expressions": []
   },
   "source": [
    "# The Benefits of Using Classess in Python\n",
    "Is it worth using classes in Python? Absolutely! Classes are the building blocks of object-oriented programming in Python. They allow you to leverage the power of Python while writing and organizing your code. By learning about classes, you’ll be able to take advantage of all the benefits that they provide. With classes, you can:\n",
    "\n",
    "- **Model and solve complex real-world problems:** You’ll find many situations where the objects in your code map to real-world objects. This can help you think about complex problems, which will result in better solutions to your programming problems.\n",
    "\n",
    "- **Reuse code and avoid repetition:** You can define hierarchies of related classes. The base classes at the top of a hierarchy provide common functionality that you can reuse later in the subclasses down the hierarchy. This allows you to reduce code duplication and promote code reuse.\n",
    "\n",
    "- **Encapsulate related data and behaviors in a single entity:** You can use Python classes to bundle together related attributes and methods in a single entity, the object. This helps you better organize your code using modular and autonomous entities that you can even reuse across multiple projects.\n",
    "\n",
    "- **Abstract away the implementation details of concepts and objects:** You can use classes to abstract away the implementation details of core concepts and objects. This will help you provide your users with intuitive interfaces (APIs) to process complex data and behaviors.\n",
    "\n",
    "- **Unlock polymorphism with common interfaces:** You can implement a particular interface in several slightly different classes and use them interchangeably in your code. This will make your code more flexible and adaptable.\n",
    "\n",
    "In short, Python classes can help you write more organized, structured, maintainable, reusable, flexible, and user-friendly code. They’re a great tool to have under your belt. However, don’t be tempted to use classes for everything in Python. In some situations, they’ll overcomplicate your solutions.\n",
    "\n",
    "```{note}\n",
    "In Python, the public attributes and methods of a class make up what you’ll know as the class’s **interface** or **application programming interface (API)**. \n",
    "```"
   ]
  },
  {
   "cell_type": "markdown",
   "id": "2aae766a-eb24-4ae8-9f18-a8a615f510dd",
   "metadata": {
    "user_expressions": []
   },
   "source": [
    "# Deciding When to Avoid Using Classes\n",
    "In practice, you’ll encounter a few situations in which you should avoid classes. For example, you shouldn’t use regular classes when you need to:\n",
    "\n",
    "* Store **only data**. Use a [data class](<https://realpython.com/python-data-classes/>) or a [named tuple](<https://realpython.com/python-namedtuple/>) instead.\n",
    "* Provide a single method. Use a function instead.\n",
    "\n",
    "**Data classes**, [enumerations](<https://realpython.com/python-enum/>), and **named tuples** are specially designed to store data. So, they might be the best solution if your class doesn’t have any behavior attached.\n",
    "\n",
    " The Classes aren’t necessary when you’re working with:\n",
    " * A small and **simple program** or **script** that doesn’t require complex data structures or logic. In this case, using classes may be overkill.\n",
    " \n",
    " * A **performance-critical** program. Classes add overhead to your program, especially when you need to create many objects. This may affect your code’s general performance.\n",
    " \n",
    " * A **legacy codebase**. If an existing codebase doesn’t use classes, then you shouldn’t introduce them. This will break the current coding style and disrupt the code’s consistency.\n",
    " * A team with a **different coding style**. If your current team doesn’t use classes, then stick with their coding style. This will ensure consistency across the project.\n",
    " \n",
    " * A codebase that uses **functional programming**. If a given codebase is currently written with a [functional](<https://realpython.com/python-functional-programming/>) approach, then you shouldn’t introduce classes. This will break the underlying coding paradigm.\n",
    " \n",
    " You may find yourself in many other situations where using classes will be overkill. Classes are great, but don’t turn them into a one-size-fits-all type of tool. Start your code as simply as possible. If the need for a class appears, then go for it."
   ]
  },
  {
   "cell_type": "markdown",
   "id": "a085b8c3-d5b5-4e8a-9aae-d7967a38110c",
   "metadata": {
    "user_expressions": []
   },
   "source": [
    "# Attaching Data to Classes and Instances\n",
    "As you’ve learned, classes are great when you must bundle data and behavior together in a single entity. The data will come in the form of attributes, while the behavior will come as methods. You already have an idea of what an attribute is. Now it’s time to dive deeper into how you can add, access, and modify attributes in your custom classes.\n",
    "\n",
    "First, you need to know that your classes can have two types of attributes in Python:\n",
    "\n",
    "1. **Class attributes:** A class attribute is a variable that you define in the class body directly. Class attributes belong to their containing class. Their data is common to the class and all its instances.\n",
    "2. **Instance attributes:** An instance is a variable that you define inside a method. Instance attributes belong to a concrete instance of a given class. Their data is only available to that instance and defines its state.\n",
    "\n",
    "Both types of attributes have their specific use cases. Instance attributes are, by far, the most common type of attribute that you’ll use in your day-to-day coding, but class attributes also come in handy.\n",
    "\n",
    "## Class Attributes\n",
    "Class attributes are variables that you define directly in the class body but outside of any method. These attributes are tied to the class itself rather than to particular objects of that class.\n",
    "\n",
    "All the objects that you create from a particular class share the same class attributes with the same original values. Because of this, if you change a class attribute, then that change affects all the derived objects.\n",
    "\n",
    "As an example, say that you want to create a class that keeps an internal count of the instances you’ve created. In that case, you can use a class attribute:\n"
   ]
  },
  {
   "cell_type": "code",
   "execution_count": 31,
   "id": "b33f187b-cba3-4a44-95bf-9b238f0e4605",
   "metadata": {
    "tags": []
   },
   "outputs": [],
   "source": [
    "class ObjNumCounter:\n",
    "    num_of_instances = 0\n",
    "    def __init__(self):\n",
    "        # Increase by one every time a new instance is created.\n",
    "        ObjNumCounter.num_of_instances += 1"
   ]
  },
  {
   "cell_type": "code",
   "execution_count": 32,
   "id": "117aab87-ca04-4ec8-a0a6-0b9b2cdc1bed",
   "metadata": {
    "tags": []
   },
   "outputs": [
    {
     "name": "stdout",
     "output_type": "stream",
     "text": [
      "0\n"
     ]
    }
   ],
   "source": [
    "# The initial State:\n",
    "print(ObjNumCounter.num_of_instances)"
   ]
  },
  {
   "cell_type": "code",
   "execution_count": 35,
   "id": "43e26aa7-ed40-4c73-91bd-030ddd19f626",
   "metadata": {
    "tags": []
   },
   "outputs": [
    {
     "name": "stdout",
     "output_type": "stream",
     "text": [
      "1\n"
     ]
    }
   ],
   "source": [
    "# Lets create a new instance:\n",
    "ObjNumCounter()\n",
    "# Now lets see how many instances we have:\n",
    "print(ObjNumCounter.num_of_instances)"
   ]
  },
  {
   "cell_type": "code",
   "execution_count": 34,
   "id": "5b140079-f3a6-4a34-810d-4733423247e9",
   "metadata": {
    "tags": []
   },
   "outputs": [],
   "source": [
    "# Recommended to use the built-in \"type()\" function instead of the class name :\n",
    "class ObjNumCounter:\n",
    "    num_of_instances = 0\n",
    "    def __init__(self):\n",
    "        # Increase by one every time a new instance is created.\n",
    "        # ObjNumCounter.num_of_instances += 1\n",
    "        type(self).num_of_instances += 1"
   ]
  },
  {
   "cell_type": "markdown",
   "id": "d6f777d7-57dd-4143-88d8-254781a2a3a1",
   "metadata": {},
   "source": [
    "You can always access to the class attributes within an instance ( i.e. \"self.num_of_instnaces\"), but if you want to modify the class attribute you have to use the class name (ObjNumCounter.num_of_instances) or (type(self).num_of_instances).\n",
    "Otherwise, any modification will be valid only for that instance which was created.\n",
    "\n",
    "In general, you should use class attributes for sharing data between instances of a class. Any changes on a class attribute will be visible to all the instances of that class.\n",
    "\n"
   ]
  },
  {
   "cell_type": "markdown",
   "id": "95c556e6-41ab-4e16-9089-9542827f0983",
   "metadata": {
    "tags": [],
    "user_expressions": []
   },
   "source": [
    "## Instance Attributes\n",
    "Instance attributes are variables tied to a particular object of a given class. The value of an instance attribute is attached to the object itself. So, the attribute’s value is specific to its containing instance.\n",
    "\n",
    "Python lets you dynamically attach attributes to existing objects that you’ve already created. However, you most often define instance attributes inside **instance methods**, which are those methods that receive self as their first argument.\n",
    "\n",
    "```{note}\n",
    "Even though you can define instance attributes inside any instance method, it’s best to define all of them in the .__init__() method, which is the instance initializer. This ensures that all of the attributes have the correct values when you create a new instance. Additionally, it makes the code more organized and easier to debug.\n",
    "```\n",
    "\n",
    "Consider the following Car class, which defines a bunch of instance attributes:"
   ]
  },
  {
   "cell_type": "markdown",
   "id": "e341d90f-9c48-4c5f-9d1c-5c29d21098ab",
   "metadata": {
    "user_expressions": []
   },
   "source": [
    "## The **.\\__dict\\__** Attribute\n",
    "In Python, both classes and instances have a special attribute called **.\\__dict\\__**. This attribute holds a dictionary containing the writable members of the underlying class or instance. Remember, these members can be attributes or methods. Each key in **.\\__dict\\__** represents an attribute name. The value associated with a given key represents the value of the corresponding attribute.\n",
    "\n",
    "In a class, **.\\__dict\\__** will contain class attributes and methods. In an instance, **.\\__dict\\__** will hold instance attributes.\n",
    "\n",
    "When you access a class member through the class object, Python automatically searches for the member’s name in the class **.\\__dict\\__**. If the name isn’t there, then you get an AttributeError.\n",
    "\n",
    "Similarly, when you access an instance member through a concrete instance of a class, Python looks for the member’s name in the instance **.\\__dict\\__**. If the name doesn’t appears there, then Python looks in the class **.\\__dict\\__**. If the name isn’t found, then you get a **NameError**."
   ]
  },
  {
   "cell_type": "code",
   "execution_count": 36,
   "id": "cb564fba-9ee6-4bb6-ae20-ba423cb2d1f3",
   "metadata": {
    "tags": []
   },
   "outputs": [],
   "source": [
    "class KfhMath:\n",
    "    # The Class variables:\n",
    "    KFH_PI = 3.14159\n",
    "    KFH_E = 2.71828\n",
    "    KFH_GOLDEN_RATIO = 1.61803\n",
    "\n",
    "    # Initiate an Instance\n",
    "    def __init__(self, x, y):\n",
    "        self.instance_value_x = x\n",
    "        self.instance_value_y = y\n",
    "        \n",
    "    def method(self):\n",
    "        print(f\"Class attribute: {self.KFH_PI}\")\n",
    "        print(f\"Instance attribute: {self.instanace_value_x}\")"
   ]
  },
  {
   "cell_type": "markdown",
   "id": "d1a17832-723d-45a1-968c-40b414f98426",
   "metadata": {
    "tags": [],
    "user_expressions": []
   },
   "source": [
    "```{note}\n",
    "The ClassName **.\\__dict\\__** and **vars**(ClassName) gives the same output:\n",
    "```"
   ]
  },
  {
   "cell_type": "code",
   "execution_count": 47,
   "id": "ce00c9ea-748d-4195-b203-da00e08f0c3e",
   "metadata": {
    "tags": []
   },
   "outputs": [
    {
     "data": {
      "text/plain": [
       "mappingproxy({'__module__': '__main__',\n",
       "              'KFH_PI': 3.14159,\n",
       "              'KFH_E': 2.71828,\n",
       "              'KFH_GOLDEN_RATIO': 1.61803,\n",
       "              '__init__': <function __main__.KfhMath.__init__(self, x, y)>,\n",
       "              'method': <function __main__.KfhMath.method(self)>,\n",
       "              '__dict__': <attribute '__dict__' of 'KfhMath' objects>,\n",
       "              '__weakref__': <attribute '__weakref__' of 'KfhMath' objects>,\n",
       "              '__doc__': None})"
      ]
     },
     "execution_count": 47,
     "metadata": {},
     "output_type": "execute_result"
    }
   ],
   "source": [
    "KfhMath.__dict__"
   ]
  },
  {
   "cell_type": "code",
   "execution_count": 46,
   "id": "7afc4dfa-f339-453c-9c21-aaf3ad510060",
   "metadata": {
    "user_expressions": []
   },
   "outputs": [
    {
     "data": {
      "text/plain": [
       "mappingproxy({'__module__': '__main__',\n",
       "              'KFH_PI': 3.14159,\n",
       "              'KFH_E': 2.71828,\n",
       "              'KFH_GOLDEN_RATIO': 1.61803,\n",
       "              '__init__': <function __main__.KfhMath.__init__(self, x, y)>,\n",
       "              'method': <function __main__.KfhMath.method(self)>,\n",
       "              '__dict__': <attribute '__dict__' of 'KfhMath' objects>,\n",
       "              '__weakref__': <attribute '__weakref__' of 'KfhMath' objects>,\n",
       "              '__doc__': None})"
      ]
     },
     "execution_count": 46,
     "metadata": {},
     "output_type": "execute_result"
    }
   ],
   "source": [
    "vars(KfhMath)"
   ]
  },
  {
   "cell_type": "code",
   "execution_count": 43,
   "id": "ea62e192-b604-4b67-8317-22e5b9b6c258",
   "metadata": {
    "tags": []
   },
   "outputs": [
    {
     "data": {
      "text/plain": [
       "2019"
      ]
     },
     "execution_count": 43,
     "metadata": {},
     "output_type": "execute_result"
    }
   ],
   "source": [
    "kfh.instance_value_x"
   ]
  },
  {
   "cell_type": "code",
   "execution_count": 52,
   "id": "4a0444af-efc2-4401-802b-f1de4fce7fcc",
   "metadata": {
    "tags": []
   },
   "outputs": [
    {
     "data": {
      "text/plain": [
       "2020"
      ]
     },
     "execution_count": 52,
     "metadata": {},
     "output_type": "execute_result"
    }
   ],
   "source": [
    "kfh.__dict__['instance_value_x'] = 2020\n",
    "kfh.__dict__['instance_value_x']"
   ]
  },
  {
   "cell_type": "code",
   "execution_count": 50,
   "id": "7356e3e6-cfd9-406c-abcf-c1cddff7e10b",
   "metadata": {
    "tags": []
   },
   "outputs": [
    {
     "data": {
      "text/plain": [
       "{'instance_value_x': 2019, 'instance_value_y': 2023}"
      ]
     },
     "execution_count": 50,
     "metadata": {},
     "output_type": "execute_result"
    }
   ],
   "source": [
    "kfh.__dict__"
   ]
  },
  {
   "cell_type": "markdown",
   "id": "37c19417-29d7-4112-8129-59e2fc18edd3",
   "metadata": {
    "user_expressions": []
   },
   "source": [
    "As you can see that the instance of the class has only its variables in the **.\\__dict\\__** attribute.\n",
    "Again, you can access any existing instance attribute using **.\\__dict\\__** and the attribute name in square brackets.\n",
    "\n",
    "You can modify the instance **.\\__dict\\__** dynamically. This means that you can change the value of existing instance attributes through **.\\__dict\\__**, as you did in the final example above. You can even add new attributes to an instance using its .__dict__ dictionary.\n",
    "\n"
   ]
  },
  {
   "cell_type": "markdown",
   "id": "0cd5ed62-4216-46d1-bbad-5bead7cd080d",
   "metadata": {
    "user_expressions": []
   },
   "source": [
    "## Dynamic Class and Instance Attributes\n",
    "In Python, you can add new attributes to your classes and instances dynamically. This possibility allows you to attach new data and behavior to your classes and objects in response to changing requirements or contexts. It also allows you to adapt existing classes to specific and dynamic needs.\n",
    "\n",
    "For example, you can take advantage of this Python feature when you don’t know the required attributes of a given class at the time when you’re defining that class itself.\n",
    "\n",
    "Consider the following class, which aims to store a row of data from a database table or a CSV file:"
   ]
  },
  {
   "cell_type": "code",
   "execution_count": 53,
   "id": "3e270d61-0fe4-4577-a8fa-bb2485bf6581",
   "metadata": {
    "tags": []
   },
   "outputs": [],
   "source": [
    "class Record:\n",
    "    \"\"\" The class holds a record of data.\"\"\"\n",
    "    pass"
   ]
  },
  {
   "cell_type": "markdown",
   "id": "bdde62d8-316d-4876-b646-a6935ba9caa2",
   "metadata": {
    "user_expressions": []
   },
   "source": [
    "In this class, you haven’t defined any attributes or methods because you don’t know what data the class will store. Fortunately, you can add attributes and even methods to this class dynamically.\n",
    "\n",
    "For example, say that you’ve read a row of data from an employees.csv file using **csv.DictReader**. This class reads the data and returns it in a dictionary-like object. Now suppose that you have the following dictionary of data:"
   ]
  },
  {
   "cell_type": "code",
   "execution_count": 54,
   "id": "87abe869-b29b-4453-91fd-abfbe09bb414",
   "metadata": {
    "tags": []
   },
   "outputs": [],
   "source": [
    "kh = {\n",
    "    \"name\": \"Karshi Hasanov\",\n",
    "    \"position\": \"Python Developer\",\n",
    "    \"department\": \"Engineering\",\n",
    "    \"salary\": 120000,\n",
    "    \"hire_date\": \"2020-01-01\",\n",
    "    \"is_manager\": False \n",
    "}"
   ]
  },
  {
   "cell_type": "markdown",
   "id": "e329316c-8b2a-4dd4-b219-91c9c1ecf7ca",
   "metadata": {
    "user_expressions": []
   },
   "source": [
    "Next, you want to add this data to an instance of your **Record** class, and you need to represent each data field as an instance attribute. Here’s how you can do it:"
   ]
  },
  {
   "cell_type": "code",
   "execution_count": 55,
   "id": "4ba1903a-3f21-4d44-8398-206633492793",
   "metadata": {
    "tags": []
   },
   "outputs": [],
   "source": [
    "kh_record = Record()\n",
    "for field, value in kh.items():\n",
    "    setattr(kh_record, field, value)\n"
   ]
  },
  {
   "cell_type": "code",
   "execution_count": 57,
   "id": "7a9a8741-9014-4104-af12-5d1d7ea53eab",
   "metadata": {
    "tags": []
   },
   "outputs": [
    {
     "data": {
      "text/plain": [
       "'Karshi Hasanov'"
      ]
     },
     "execution_count": 57,
     "metadata": {},
     "output_type": "execute_result"
    }
   ],
   "source": [
    "kh_record.name"
   ]
  },
  {
   "cell_type": "code",
   "execution_count": 59,
   "id": "d57efea0-813c-4bfb-87d6-8cfe2fa21f63",
   "metadata": {
    "tags": []
   },
   "outputs": [
    {
     "data": {
      "text/plain": [
       "{'name': 'Karshi Hasanov',\n",
       " 'position': 'Python Developer',\n",
       " 'department': 'Engineering',\n",
       " 'salary': 120000,\n",
       " 'hire_date': '2020-01-01',\n",
       " 'is_manager': False}"
      ]
     },
     "execution_count": 59,
     "metadata": {},
     "output_type": "execute_result"
    }
   ],
   "source": [
    "kh_record.__dict__"
   ]
  },
  {
   "cell_type": "markdown",
   "id": "97bde149-5adf-43ec-bd59-496b14a3565a",
   "metadata": {
    "user_expressions": []
   },
   "source": [
    "Yet another way of adding the attributes dynamically is that creating the **.\\__init\\__** method dynamically: "
   ]
  },
  {
   "cell_type": "code",
   "execution_count": 60,
   "id": "bdf3dd1c-0632-4277-8bcc-b56812b5aa59",
   "metadata": {
    "tags": []
   },
   "outputs": [],
   "source": [
    "class User:\n",
    "    pass"
   ]
  },
  {
   "cell_type": "markdown",
   "id": "8aa80108-57cd-4148-b0c1-d7877e47ed5c",
   "metadata": {
    "tags": [],
    "user_expressions": []
   },
   "source": [
    "Later we decided that we want our **User** class instances should initiate with some values when we create them.\\\n",
    "So, here how we can do that:"
   ]
  },
  {
   "cell_type": "code",
   "execution_count": 66,
   "id": "2f853db6-234a-4b3e-8784-dcddf1bac4f4",
   "metadata": {
    "tags": []
   },
   "outputs": [],
   "source": [
    "def __init__(self, user_id, username, department):\n",
    "    self.user_id = user_id\n",
    "    self.username = username\n",
    "    self.department = department\n",
    "\n",
    "User.__init__ = __init__"
   ]
  },
  {
   "cell_type": "markdown",
   "id": "d66ace4a-c195-491c-adaa-185fc30b6179",
   "metadata": {
    "user_expressions": []
   },
   "source": [
    "Now we can create an instance like this:"
   ]
  },
  {
   "cell_type": "code",
   "execution_count": 67,
   "id": "314f5568-85f1-4323-89ab-ec4d85e5260d",
   "metadata": {
    "tags": []
   },
   "outputs": [],
   "source": [
    "user = User(1001,'khasanov','Biomedical Engineering')"
   ]
  },
  {
   "cell_type": "code",
   "execution_count": 68,
   "id": "99404e15-504f-4716-8e78-a1d9a1408ea5",
   "metadata": {
    "tags": []
   },
   "outputs": [
    {
     "data": {
      "text/plain": [
       "'Biomedical Engineering'"
      ]
     },
     "execution_count": 68,
     "metadata": {},
     "output_type": "execute_result"
    }
   ],
   "source": [
    "user.department"
   ]
  },
  {
   "cell_type": "markdown",
   "id": "ff1e179c-6788-4b28-980b-6698f7fcb0f4",
   "metadata": {
    "user_expressions": []
   },
   "source": [
    "## Property and Descriptor-Based Attributes\n",
    "Python allows you to add function-like behavior on top of existing instance attributes and turn them into **managed attributes**. This type of attribute prevents you from introducing breaking changes into your APIs.\n",
    "\n",
    "In other words, with managed attributes, you can have function-like behavior and attribute-like access at the same time. You don’t need to change your APIs by replacing attributes with method calls, which can potentially break your users’ code.\n",
    "\n",
    "To create a **managed attribute** with function-like behavior in Python, you can use either a property or a descriptor, depending on your specific needs.\n",
    "\n",
    "```{note}\n",
    "Since I have diccussed the Python **property(**) function in my notes on the subject, I will not go through it again here. However, the **descriptor** approach needs more attention.\n",
    "Although I have given reason why we might use the descriptor instead of the **property()** function, providing more examples could shine some more light on the reasoning.  \n",
    "```\n",
    "Let us consider the following two classes: The **Circle** and **Square**\n",
    "\n",
    "```python\n",
    "# circle.py\n",
    "\n",
    "import math\n",
    "\n",
    "class Circle:\n",
    "    def __init__(self, radius):\n",
    "        self.radius = radius\n",
    "\n",
    "    @property\n",
    "    def radius(self):\n",
    "        return self._radius\n",
    "\n",
    "    @radius.setter\n",
    "    def radius(self, value):\n",
    "        if not isinstance(value, int | float) or value <= 0:\n",
    "            raise ValueError(\"positive number expected\")\n",
    "        self._radius = value\n",
    "\n",
    "    def calculate_area(self):\n",
    "        return round(math.pi * self._radius**2, 2)\n",
    "# -----------------------------------------------------------\n",
    "# square.py\n",
    "\n",
    "class Square:\n",
    "    def __init__(self, side):\n",
    "        self.side = side\n",
    "\n",
    "    @property\n",
    "    def side(self):\n",
    "        return self._side\n",
    "\n",
    "    @side.setter\n",
    "    def side(self, value):\n",
    "        if not isinstance(value, int | float) or value <= 0:\n",
    "            raise ValueError(\"positive number expected\")\n",
    "        self._side = value\n",
    "\n",
    "    def calculate_area(self):\n",
    "        return round(self._side**2, 2)\n",
    "```"
   ]
  },
  {
   "cell_type": "markdown",
   "id": "253371ff-66b1-4839-8993-9a4c2ae3366a",
   "metadata": {
    "user_expressions": []
   },
   "source": [
    "By looking at the code, we can see the similar patterns in these clases: The validation process. The **Circle** class uses the **radius** and **Square** uses the **side**. Instead of repeating the same pattern, we could have use the **decriptor** as following:"
   ]
  },
  {
   "cell_type": "code",
   "execution_count": 70,
   "id": "ec5bf389-b9b1-4b04-859d-0cb3eee662e8",
   "metadata": {
    "tags": []
   },
   "outputs": [],
   "source": [
    "# shapes.py\n",
    "\n",
    "import math\n",
    "\n",
    "class PositiveNumber:\n",
    "    def __set_name__(self, owner, name):\n",
    "        self._name = name\n",
    "\n",
    "    def __get__(self, instance, owner):\n",
    "        return instance.__dict__[self._name]\n",
    "\n",
    "    def __set__(self, instance, value):\n",
    "        if not isinstance(value, int | float) or value <= 0:\n",
    "            raise ValueError(\"positive number expected\")\n",
    "        instance.__dict__[self._name] = value\n",
    "\n",
    "class Circle:\n",
    "    radius = PositiveNumber()\n",
    "\n",
    "    def __init__(self, radius):\n",
    "        self.radius = radius\n",
    "\n",
    "    def calculate_area(self):\n",
    "        return round(math.pi * self.radius**2, 2)\n",
    "\n",
    "class Square:\n",
    "    side = PositiveNumber()\n",
    "\n",
    "    def __init__(self, side):\n",
    "        self.side = side\n",
    "\n",
    "    def calculate_area(self):\n",
    "        return round(self.side**2, 2)"
   ]
  },
  {
   "cell_type": "markdown",
   "id": "8ae8c511-e462-437d-8ade-ba20d419cd7a",
   "metadata": {
    "user_expressions": []
   },
   "source": [
    "The first thing to notice in this example is that we moved all the classes to a **_shapes.py_** file. In that file, we define a **descriptor** class called *PositiveNumber* by implementing the **.\\__get\\__()** and **.\\__set\\__()** special methods, which are part of the descriptor protocol.\n",
    "\n",
    "Next, we remove the .radius property from Circle and the **.side** property from Square. In Circle, we add a **.radius** class attribute, which holds an instance of PositiveNumber. We do something similar in Square, but the class attribute is appropriately named **.side**.\n",
    "\n"
   ]
  },
  {
   "cell_type": "markdown",
   "id": "135fad51-e310-49b2-b237-d026c1a81c49",
   "metadata": {
    "user_expressions": []
   },
   "source": [
    "Python **descriptors** provide a powerful tool for adding function-like behavior on top of your instance attributes. They can help you remove repetition from your code, making it cleaner and more maintainable. They also promote code reuse."
   ]
  },
  {
   "cell_type": "code",
   "execution_count": null,
   "id": "33ad9a8e-c11c-4f13-987d-52e006ccdd15",
   "metadata": {},
   "outputs": [],
   "source": []
  }
 ],
 "metadata": {
  "kernelspec": {
   "display_name": "Python 3 (ipykernel)",
   "language": "python",
   "name": "python3"
  },
  "language_info": {
   "codemirror_mode": {
    "name": "ipython",
    "version": 3
   },
   "file_extension": ".py",
   "mimetype": "text/x-python",
   "name": "python",
   "nbconvert_exporter": "python",
   "pygments_lexer": "ipython3",
   "version": "3.10.12"
  }
 },
 "nbformat": 4,
 "nbformat_minor": 5
}

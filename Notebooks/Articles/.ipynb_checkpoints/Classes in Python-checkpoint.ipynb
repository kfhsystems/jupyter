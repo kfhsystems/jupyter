{
 "cells": [
  {
   "cell_type": "markdown",
   "id": "f4f7d186-0a70-485e-a54c-dd299bc2da5e",
   "metadata": {
    "tags": []
   },
   "source": [
    "\n",
    "---\n",
    "Author: Karshi Hasanov \\\n",
    "Date: May 3, 2023 \\\n",
    "Last Modified: May 4, 2023\n",
    "---\n",
    "\n",
    "# Getting Started With Python Classes\n"
   ]
  },
  {
   "cell_type": "markdown",
   "id": "2427c4d8-abb9-4870-a89d-43a01bcdff11",
   "metadata": {},
   "source": [
    "Python is a multiparadigm programming language that supports object-oriented programming (OOP) through classes that you can define with the class keyword. \n",
    "You can think of a class as a piece of code that specifies the data and behavior that represent and model a particular type of object.\n",
    "\n",
    "What is a **class** in Python? A common analogy is that a __class__ is like the blueprint for a house. You can use the blueprint to create several houses and even a complete neighborhood. Each concrete house is an object or instance that’s derived from the blueprint.\n",
    "\n",
    "Each instance can have its own properties, such as color, owner, and interior design. These properties carry what’s commonly known as the object’s state. Instances can also have different behaviors, such as locking the doors and windows, opening the garage door, turning the lights on and off, watering the garden, and more.\n",
    "\n",
    "In OOP, you commonly use the term attributes to refer to the properties or data associated with a specific object of a given class. In Python, attributes are variables defined inside a class with the purpose of storing all the required data for the class to work.\n",
    "\n",
    "Similarly, you’ll use the term methods to refer to the different behaviors that objects will show. Methods are functions that you define within a class. These functions typically operate on or with the attributes of the underlying instance or class. Attributes and methods are collectively referred to as members of a class or object.\n",
    "\n",
    "You can write fully functional classes to model the real world. These classes will help you better organize your code and solve complex programming problems.\n",
    "\n",
    "For example, you can use classes to create objects that emulate people, animals, vehicles, books, buildings, cars, or other objects. You can also model virtual objects, such as a web server, directory tree, chatbot, file manager, and more.\n",
    "\n",
    "Finally, you can use classes to build class hierarchies. This way, you’ll promote code reuse and remove repetition throughout your codebase.\n",
    "\n",
    "In this tutorial, you’ll learn a lot about classes and all the cool things that you can do with them. To kick things off, you’ll start by defining your first class in Python. Then you’ll dive into other topics related to instances, attributes, and methods.\n",
    "\n",
    "## Defining a Class in Python\n",
    "To define a class, you need to use the **class** keyword followed by the class name and a colon, just like you’d do for other compound statements in Python. Then you must define the class body, which will start at the next indentation level:\n",
    "```Python\n",
    "class ClassName:\n",
    "    # Class body\n",
    "    pass\n",
    "```\n",
    "In a class body, you can define attributes and methods as needed. As you already learned, attributes are variables that hold the class data, while methods are functions that provide behavior and typically act on the class data.\n",
    "\n",
    "As an example of how to define attributes and methods, say that you need a Circle class to model different circles in a drawing application. Initially, your class will have a single attribute to hold the radius. It’ll also have a method to calculate the circle’s area:\n"
   ]
  },
  {
   "cell_type": "code",
   "execution_count": 19,
   "id": "aaebfd5f-0752-406c-a63b-5af6a84258d6",
   "metadata": {
    "tags": []
   },
   "outputs": [],
   "source": [
    "# circle.py\n",
    "import math\n",
    "\n",
    "class Circle:\n",
    "    def __init__(self, radius):\n",
    "        self.radius = radius\n",
    "\n",
    "    def calculate_area(self):\n",
    "        return round(math.pi * self.radius ** 2, 2)"
   ]
  },
  {
   "cell_type": "markdown",
   "id": "81241e2c-330d-4dc1-92ee-de0f8cf59e79",
   "metadata": {},
   "source": [
    "In this code snippet, you define Circle using the class keyword. Inside the class, you write two methods. The .__init__() method has a special meaning in Python classes. This method is known as the object initializer because it defines and sets the initial values for your attributes. You’ll learn more about this method in the Instance Attributes section.\n",
    "\n",
    "The second method of Circle is conveniently named .calculate_area() and will compute the area of a specific circle by using its radius. It’s common for method names to contain a verb, such as calculate, to describe an action the method performs. In this example, you’ve used the math module to access the pi constant as it’s defined in that module.\n",
    "\n",
    "## Creating Objects From a Class in Python\n",
    "The action of creating concrete objects from an existing class is known as instantiation. With every instantiation, you create a new object of the target class. To get your hands dirty, go ahead and make a couple of instances of Circle by running the following code in a Python REPL session:"
   ]
  },
  {
   "cell_type": "code",
   "execution_count": 15,
   "id": "51cc41d8-c9ce-4fde-85fe-ffb3d4c5892b",
   "metadata": {
    "tags": []
   },
   "outputs": [],
   "source": [
    "circle = Circle(42) # Create a Circle object with the Radius = 42"
   ]
  },
  {
   "cell_type": "code",
   "execution_count": 13,
   "id": "b951c40f-f226-45e1-9040-ff1bf975b61a",
   "metadata": {
    "tags": []
   },
   "outputs": [
    {
     "name": "stdout",
     "output_type": "stream",
     "text": [
      "<__main__.Circle object at 0x113ee2e60>\n"
     ]
    }
   ],
   "source": [
    "print(circle)"
   ]
  },
  {
   "cell_type": "markdown",
   "id": "b0cf7a8c-41e4-4873-bd0c-524ea254c2a9",
   "metadata": {},
   "source": [
    "## Accessing Attributes and Methods\n",
    "In Python, you can access the attributes and methods of an object by using dot notation with the dot operator. The following snippet of code shows the required syntax:\n",
    "```Python\n",
    "# Get the attribute :\n",
    "obj.attribute_name\n",
    "\n",
    "# Call the method:\n",
    "obj.method_name()\n",
    "```"
   ]
  },
  {
   "cell_type": "markdown",
   "id": "7dfb9b49-42d2-4664-a8e4-c24e23150935",
   "metadata": {},
   "source": [
    "From our \"Circle\" object:"
   ]
  },
  {
   "cell_type": "code",
   "execution_count": 16,
   "id": "daf15e30-aa05-44a7-9986-00f5211363f9",
   "metadata": {
    "tags": []
   },
   "outputs": [
    {
     "data": {
      "text/plain": [
       "42"
      ]
     },
     "execution_count": 16,
     "metadata": {},
     "output_type": "execute_result"
    }
   ],
   "source": [
    "# Get the Radius attribute of the Circle object\n",
    "circle.radius"
   ]
  },
  {
   "cell_type": "code",
   "execution_count": 18,
   "id": "dc3d37a0-c5ac-4f4f-aec6-e84a5a943a30",
   "metadata": {
    "tags": []
   },
   "outputs": [
    {
     "data": {
      "text/plain": [
       "5541.77"
      ]
     },
     "execution_count": 18,
     "metadata": {},
     "output_type": "execute_result"
    }
   ],
   "source": [
    "# Calculate the Arear of the circle using its method:\n",
    "circle.calculate_area()"
   ]
  },
  {
   "cell_type": "markdown",
   "id": "ab79626d-f4ea-46b0-9145-b1203a77002f",
   "metadata": {
    "user_expressions": []
   },
   "source": [
    "## Naming Conventions in Python Classes\n",
    "Before continuing diving into classes, you’ll need to be aware of some important naming conventions that Python uses in the context of classes. Python is a flexible language that loves freedom and doesn’t like to have explicit restrictions. Because of that, the language and the community rely on conventions rather than restrictions.\n",
    "\n",
    "```{note}\n",
    "Most Python programmers follow the **snake_case** naming convention, which involves using underscores ( **_** ) to separate multiple words. However, the recommended naming convention for Python classes is the PascalCase, where each word is capitalized.\n",
    "In the following two sections, you’ll learn about two important naming conventions that apply to class attributes.\n",
    "```\n",
    "\n",
    "### Public vs Non-Public Members\n",
    "The first naming convention that you need to know about is related to the fact that Python doesn’t distinguish between **private**, **protected**, and **public** attributes like Java and other languages do. In Python, all attributes are accessible in one way or another. However, Python has a well-established naming convention that you should use to communicate that an attribute or method isn’t intended for use from outside its containing class or object.\n",
    "\n",
    "The naming convention consists of adding a leading underscore to the member’s name. So, in a Python class, you’ll have the following convention:\n",
    "\n",
    "| Member     | Naming                                       | Examples                   |\n",
    "|------------|:--------------------------------------------:|:----------------------------|\n",
    "| Public     | Use the normal naming pattern.               | radius, calculate_area()   |\n",
    "| Non-buplic | Include a leading underscore in names.       | _radius, _calculate_area() |\n",
    "\n",
    "Public members are part of the official interface or API of your classes, while non-public members aren’t intended to be part of that API. This means that you shouldn’t use non-public members outside their defining class.\n",
    "\n",
    "It’s important to note that the second naming convention only indicates that the attribute isn’t intended to be used directly from outside the containing class. It doesn’t prevent direct access, though. For example, you can run obj._name, and you’ll access the content of ._name. However, this is bad practice, and you should avoid it.\n",
    "\n",
    "Non-public members exist only to support the internal implementation of a given class and may be removed at any time, so you shouldn’t rely on them. The existence of these members depends on how the class is implemented. So, you shouldn’t use them directly in client code. If you do, then your code could break at any moment.\n",
    "\n",
    "When writing classes, sometimes it’s hard to decide if an attribute should be public or non-public. This decision will depend on how you want your users to use your classes. In most cases, attributes should be non-public to guarantee the safe use of your classes. A good approach will be to start with all your attributes as non-public and only make them public if real use cases appear.\n",
    "\n",
    "### Name Mangling\n",
    "Another naming convention that you can see and use in Python classes is to add two leading underscores to attribute and method names. This naming convention triggers what’s known as **name mangling**.\n",
    "\n",
    "Name mangling is an automatic name transformation that prepends the class’s name to the member’s name, like in *_ClassName__attribute* or *_ClassName__method*. This results in name hiding. In other words, mangled names aren’t available for direct access. They’re not part of a class’s public API.\n",
    "\n",
    "For example, consider the following sample class:\n"
   ]
  },
  {
   "cell_type": "code",
   "execution_count": 27,
   "id": "97a852a2-d303-4d3b-8632-6f0eb77af645",
   "metadata": {
    "tags": []
   },
   "outputs": [],
   "source": [
    "class KFH:\n",
    "    def __init__(self, value):\n",
    "        self.__value = value\n",
    "    def __method(self):\n",
    "        print(self.__value)"
   ]
  },
  {
   "cell_type": "code",
   "execution_count": 28,
   "id": "d575533d-37e5-48af-b9a8-ccea2a33ec04",
   "metadata": {
    "tags": []
   },
   "outputs": [
    {
     "data": {
      "text/plain": [
       "{'_KFH__value': 'KFH Inc.'}"
      ]
     },
     "execution_count": 28,
     "metadata": {},
     "output_type": "execute_result"
    }
   ],
   "source": [
    "kfh = KFH(\"KFH Inc.\")\n",
    "# We use built-in the vars() function, which returns a dictionary of all the members associated with the given object.\n",
    "vars(kfh)"
   ]
  },
  {
   "cell_type": "code",
   "execution_count": 29,
   "id": "d5a4934f-2504-4ee3-bc21-57e0fa765274",
   "metadata": {
    "tags": []
   },
   "outputs": [
    {
     "ename": "AttributeError",
     "evalue": "'KFH' object has no attribute '__value'",
     "output_type": "error",
     "traceback": [
      "\u001b[0;31m---------------------------------------------------------------------------\u001b[0m",
      "\u001b[0;31mAttributeError\u001b[0m                            Traceback (most recent call last)",
      "Cell \u001b[0;32mIn[29], line 2\u001b[0m\n\u001b[1;32m      1\u001b[0m \u001b[38;5;66;03m# However, we will get an error if we try:\u001b[39;00m\n\u001b[0;32m----> 2\u001b[0m \u001b[43mkfh\u001b[49m\u001b[38;5;241;43m.\u001b[39;49m\u001b[43m__value\u001b[49m\n",
      "\u001b[0;31mAttributeError\u001b[0m: 'KFH' object has no attribute '__value'"
     ]
    }
   ],
   "source": [
    "# However, we will get an error if we try:\n",
    "kfh.__value"
   ]
  },
  {
   "cell_type": "code",
   "execution_count": 24,
   "id": "5b022e77-d9e5-401c-9810-1969bdfd9653",
   "metadata": {
    "tags": []
   },
   "outputs": [],
   "source": [
    "# The same error we will get if we try \"kfh.__method()\""
   ]
  },
  {
   "cell_type": "markdown",
   "id": "2f58afb8-ca0a-48de-9b26-1bc3d82bfc14",
   "metadata": {},
   "source": [
    "In this class, **.\\__value** and **.\\__method()** have two leading underscores, so their names are mangled to **._KFH__value** and **._KFH__method()**, as you can see in the highlighted lines. Python has automatically added the prefix **_KFH** to both names. Because of this internal renaming, you can’t access the attributes from outside the class using their original names. If you try to do it, then you get an **AttributeError**."
   ]
  },
  {
   "cell_type": "code",
   "execution_count": 30,
   "id": "397e5bc4-40d6-4000-b2ce-3d516033bf4d",
   "metadata": {
    "tags": []
   },
   "outputs": [
    {
     "name": "stdout",
     "output_type": "stream",
     "text": [
      "KFH Inc.\n"
     ]
    }
   ],
   "source": [
    "# This works:\n",
    "kfh._KFH__method()"
   ]
  },
  {
   "cell_type": "markdown",
   "id": "a085b8c3-d5b5-4e8a-9aae-d7967a38110c",
   "metadata": {},
   "source": [
    "## Attaching Data to Classes and Instances\n",
    "As you’ve learned, classes are great when you must bundle data and behavior together in a single entity. The data will come in the form of attributes, while the behavior will come as methods. You already have an idea of what an attribute is. Now it’s time to dive deeper into how you can add, access, and modify attributes in your custom classes.\n",
    "\n",
    "First, you need to know that your classes can have two types of attributes in Python:\n",
    "\n",
    "1. **Class attributes:** A class attribute is a variable that you define in the class body directly. Class attributes belong to their containing class. Their data is common to the class and all its instances.\n",
    "2. **Instance attributes:** An instance is a variable that you define inside a method. Instance attributes belong to a concrete instance of a given class. Their data is only available to that instance and defines its state.\n",
    "\n",
    "Both types of attributes have their specific use cases. Instance attributes are, by far, the most common type of attribute that you’ll use in your day-to-day coding, but class attributes also come in handy.\n"
   ]
  },
  {
   "cell_type": "code",
   "execution_count": 31,
   "id": "b33f187b-cba3-4a44-95bf-9b238f0e4605",
   "metadata": {
    "tags": []
   },
   "outputs": [],
   "source": [
    "class ObjNumCounter:\n",
    "    num_of_instances = 0\n",
    "    def __init__(self):\n",
    "        # Increase by one every time a new instance is created.\n",
    "        ObjNumCounter.num_of_instances += 1"
   ]
  },
  {
   "cell_type": "code",
   "execution_count": 32,
   "id": "117aab87-ca04-4ec8-a0a6-0b9b2cdc1bed",
   "metadata": {
    "tags": []
   },
   "outputs": [
    {
     "name": "stdout",
     "output_type": "stream",
     "text": [
      "0\n"
     ]
    }
   ],
   "source": [
    "# The initial State:\n",
    "print(ObjNumCounter.num_of_instances)"
   ]
  },
  {
   "cell_type": "code",
   "execution_count": 35,
   "id": "43e26aa7-ed40-4c73-91bd-030ddd19f626",
   "metadata": {
    "tags": []
   },
   "outputs": [
    {
     "name": "stdout",
     "output_type": "stream",
     "text": [
      "1\n"
     ]
    }
   ],
   "source": [
    "# Lets create a new instance:\n",
    "ObjNumCounter()\n",
    "# Now lets see how many instances we have:\n",
    "print(ObjNumCounter.num_of_instances)"
   ]
  },
  {
   "cell_type": "code",
   "execution_count": 34,
   "id": "5b140079-f3a6-4a34-810d-4733423247e9",
   "metadata": {
    "tags": []
   },
   "outputs": [],
   "source": [
    "# Recommended to use the built-in \"type()\" function instead of the class name :\n",
    "class ObjNumCounter:\n",
    "    num_of_instances = 0\n",
    "    def __init__(self):\n",
    "        # Increase by one every time a new instance is created.\n",
    "        # ObjNumCounter.num_of_instances += 1\n",
    "        type(self).num_of_instances += 1"
   ]
  },
  {
   "cell_type": "markdown",
   "id": "d6f777d7-57dd-4143-88d8-254781a2a3a1",
   "metadata": {},
   "source": [
    "You can always access to the class attributes within an instance ( i.e. \"self.num_of_instnaces\"), but if you want to modify the class attribute you have to use the class name (ObjNumCounter.num_of_instances) or (type(self).num_of_instances).\n",
    "Otherwise, any modification will be valid only for that instance which was created.\n",
    "\n",
    "In general, you should use class attributes for sharing data between instances of a class. Any changes on a class attribute will be visible to all the instances of that class.\n",
    "\n"
   ]
  },
  {
   "cell_type": "markdown",
   "id": "95c556e6-41ab-4e16-9089-9542827f0983",
   "metadata": {
    "tags": []
   },
   "source": [
    "### Instance Attributes\n",
    "Instance attributes are variables tied to a particular object of a given class. The value of an instance attribute is attached to the object itself. So, the attribute’s value is specific to its containing instance.\n",
    "\n",
    "Python lets you dynamically attach attributes to existing objects that you’ve already created. However, you most often define instance attributes inside **instance methods**, which are those methods that receive self as their first argument.\n",
    "\n",
    "```{note}\n",
    "Even though you can define instance attributes inside any instance method, it’s best to define all of them in the .__init__() method, which is the instance initializer. This ensures that all of the attributes have the correct values when you create a new instance. Additionally, it makes the code more organized and easier to debug.\n",
    "```\n",
    "\n",
    "Consider the following Car class, which defines a bunch of instance attributes:"
   ]
  },
  {
   "cell_type": "markdown",
   "id": "e341d90f-9c48-4c5f-9d1c-5c29d21098ab",
   "metadata": {
    "user_expressions": []
   },
   "source": [
    "### The **.\\__dict__** Attribute\n",
    "In Python, both classes and instances have a special attribute called .__dict__. This attribute holds a dictionary containing the writable members of the underlying class or instance. Remember, these members can be attributes or methods. Each key in .__dict__ represents an attribute name. The value associated with a given key represents the value of the corresponding attribute.\n",
    "\n",
    "In a class, .__dict__ will contain class attributes and methods. In an instance, .__dict__ will hold instance attributes.\n",
    "\n",
    "When you access a class member through the class object, Python automatically searches for the member’s name in the class .__dict__. If the name isn’t there, then you get an AttributeError.\n",
    "\n",
    "Similarly, when you access an instance member through a concrete instance of a class, Python looks for the member’s name in the instance .__dict__. If the name doesn’t appears there, then Python looks in the class .__dict__. If the name isn’t found, then you get a NameError."
   ]
  },
  {
   "cell_type": "code",
   "execution_count": null,
   "id": "cb564fba-9ee6-4bb6-ae20-ba423cb2d1f3",
   "metadata": {},
   "outputs": [],
   "source": []
  }
 ],
 "metadata": {
  "kernelspec": {
   "display_name": "Python 3 (ipykernel)",
   "language": "python",
   "name": "python3"
  },
  "language_info": {
   "codemirror_mode": {
    "name": "ipython",
    "version": 3
   },
   "file_extension": ".py",
   "mimetype": "text/x-python",
   "name": "python",
   "nbconvert_exporter": "python",
   "pygments_lexer": "ipython3",
   "version": "3.10.11"
  }
 },
 "nbformat": 4,
 "nbformat_minor": 5
}

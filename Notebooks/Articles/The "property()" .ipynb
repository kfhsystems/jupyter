{
 "cells": [
  {
   "cell_type": "markdown",
   "id": "5913c8c5-3e9e-46a4-b7a4-8bed383b58d0",
   "metadata": {
    "tags": []
   },
   "source": [
    "\n",
    "\n",
    "Author: Karshi Hasanov \\\n",
    "Date: May 3, 2023 \\\n",
    "Last Modified: May 9, 2023\n"
   ]
  },
  {
   "cell_type": "markdown",
   "id": "1bcdc165-9ca9-4e68-8936-46d161a23532",
   "metadata": {
    "user_expressions": []
   },
   "source": [
    "# Getting Started With Python’s property()\n",
    "\n",
    "Python’s **property()** is the Pythonic way to avoid formal getter and setter methods in your code. This function allows you to turn class attributes into properties or managed attributes. Since **property()** is a built-in function, you can use it without importing anything. Additionally, **property()** was implemented in C to ensure optimal performance.\n",
    "\n",
    "```{note}\n",
    "It’s common to refer to **property()** as a built-in function. However, the **property** is a class designed to work as a function rather than as a regular class. That’s why most Python developers call it a function. That’s also the reason why property() doesn’t follow the Python convention for naming classes.\n",
    "\n",
    "This tutorial follows the common practices of calling property() a function rather than a class. However, in some sections, you’ll see it called a class to facilitate the explanation.\n",
    "```\n",
    "\n",
    "With property(), you can attach getter and setter methods to given class attributes. This way, you can handle the internal implementation for that attribute without exposing getter and setter methods in your API. You can also specify a way to handle attribute deletion and provide an appropriate docstring for your properties.\n",
    "\n",
    "Here’s the full signature of property():\n",
    "```python\n",
    "property(fget=None, fset=None, fdel=None, doc=None)\n",
    "```\n",
    "\n",
    "| Argument | Description |\n",
    "|----------|-------------|\n",
    "| fget     | Function that returns the value of the managed attribute |\n",
    "| fset     | Function that allows you to set the value of the managed attribute |\n",
    "| fdel     | Function to define how the managed attribute handles deletion |\n",
    "| doc      | String representing the property’s docstring |\n",
    "\n",
    "## Creating Attributes With property()\n",
    "You can create a property by calling property() with an appropriate set of arguments and assigning its return value to a class attribute. All the arguments to property() are optional. However, you typically provide at least a **setter function**.\n",
    "\n",
    "The following example shows how to create a Circle class with a handy property to manage its radius:\n",
    "\n",
    "```python\n",
    "# circle.py\n",
    "class Circle:\n",
    "    def __init__(self, radius):\n",
    "        self._radius = radius\n",
    "\n",
    "    def _get_radius(self):\n",
    "        print(\"Get radius\")\n",
    "        return self._radius\n",
    "\n",
    "    def _set_radius(self, value):\n",
    "        print(\"Set radius\")\n",
    "        self._radius = value\n",
    "\n",
    "    def _del_radius(self):\n",
    "        print(\"Delete radius\")\n",
    "        del self._radius\n",
    "\n",
    "    radius = property(\n",
    "        fget=_get_radius,\n",
    "        fset=_set_radius,\n",
    "        fdel=_del_radius,\n",
    "        doc=\"The radius property.\"\n",
    "    )\n",
    "```\n",
    "\n"
   ]
  },
  {
   "cell_type": "markdown",
   "id": "e3e2e054-1cad-43a6-af24-4e855a1f1816",
   "metadata": {
    "user_expressions": []
   },
   "source": [
    "If the functionality of your getter method is limited to just returning the current value of the managed attribute, then using a **lambda** function can be a handy approach.\n",
    "\n",
    "```python\n",
    "radius = property(lambda self: self._radius)\n",
    "```"
   ]
  },
  {
   "cell_type": "markdown",
   "id": "1ceb43f4-ebb6-42ce-973e-76aa80764d4e",
   "metadata": {
    "user_expressions": []
   },
   "source": [
    "Properties are **class attributes** that manage **instance attributes**. You can think of a property as a collection of methods bundled together. If you inspect .radius carefully, then you can find the raw methods you provided as the fget, fset, and fdel arguments.\n",
    "\n",
    "Properties are also overriding descriptors. If you use dir() to check the internal members of a given property, then you’ll find **.\\__set\\__()** and **.\\__get\\__()** in the list. These methods provide a default implementation of the descriptor protocol.\n",
    "\n",
    "The default implementation of **.\\__set\\__()**, for example, runs when you don’t provide a custom setter method. In this case, you get an **AttributeError** because there’s no way to set the underlying property.\n"
   ]
  },
  {
   "cell_type": "markdown",
   "id": "c3ea2eef-abeb-4424-9eb9-748e4bb877ca",
   "metadata": {
    "user_expressions": []
   },
   "source": [
    "## Using property() as a Decorator\n",
    "\n",
    "Python’s **property()** can also work as a decorator, so you can use the **@property** syntax to create your properties quickly:\n",
    " "
   ]
  },
  {
   "cell_type": "code",
   "execution_count": 16,
   "id": "669a0638-166d-48d3-b40e-6eafaa834ce5",
   "metadata": {
    "tags": []
   },
   "outputs": [],
   "source": [
    "# circle.py\n",
    "class Circle:\n",
    "    def __init__(self, radius):\n",
    "        self._radius = radius\n",
    "        \n",
    "    @property\n",
    "    def radius(self):\n",
    "        \"\"\"The radius property.\"\"\"\n",
    "        print(\"Get radius\")\n",
    "        return self._radius\n",
    "    \n",
    "    @radius.setter\n",
    "    def radius(self, value):\n",
    "        print(\"Set radius\")\n",
    "        self._radius = value\n",
    "        \n",
    "    @radius.deleter\n",
    "    def radius(self):\n",
    "        print(\"Delete radius\")\n",
    "        del self._radius"
   ]
  },
  {
   "cell_type": "markdown",
   "id": "21462513-4d70-467a-96ac-6e5de3119a1a",
   "metadata": {
    "user_expressions": []
   },
   "source": [
    "```{note}\n",
    "You don’t need to use a pair of parentheses for calling **.radius()** as a method. Instead, you can access **.radius** as you would access a regular attribute, which is the primary use of properties. They allow you to treat methods as attributes, and they take care of calling the underlying set of methods automatically.\n",
    "```"
   ]
  },
  {
   "cell_type": "code",
   "execution_count": 17,
   "id": "57a4eb59-a348-450c-8c0c-cdf86419f6d9",
   "metadata": {
    "tags": []
   },
   "outputs": [
    {
     "name": "stdout",
     "output_type": "stream",
     "text": [
      "Get radius\n"
     ]
    },
    {
     "data": {
      "text/plain": [
       "42.0"
      ]
     },
     "execution_count": 17,
     "metadata": {},
     "output_type": "execute_result"
    }
   ],
   "source": [
    "circle = Circle(42.0)\n",
    "circle.radius"
   ]
  },
  {
   "cell_type": "code",
   "execution_count": 18,
   "id": "3e062f54-ecb0-4e2a-b55f-b578d24fbc0c",
   "metadata": {
    "tags": []
   },
   "outputs": [
    {
     "name": "stdout",
     "output_type": "stream",
     "text": [
      "Delete radius\n"
     ]
    }
   ],
   "source": [
    "del circle.radius"
   ]
  },
  {
   "cell_type": "markdown",
   "id": "c57f2831-8366-4130-94af-9686ccfaa32f",
   "metadata": {
    "user_expressions": []
   },
   "source": [
    "## Providing Read-Only Attributes\n",
    "Probably the most elementary use case of **property()** is to provide **read-only** attributes in your classes. Say you need an immutable Point class that doesn’t allow the user to mutate the original value of its coordinates, x and y. To achieve this goal, you can create Point like in the following example:"
   ]
  },
  {
   "cell_type": "code",
   "execution_count": 19,
   "id": "2b556b1b-b8c3-47e6-b26c-4c40fe51af34",
   "metadata": {
    "tags": []
   },
   "outputs": [],
   "source": [
    "class Point:\n",
    "    def __init__(self, x, y):\n",
    "        self._x = x\n",
    "        self._y = y\n",
    "\n",
    "    @property\n",
    "    def x(self):\n",
    "        return self._x\n",
    "\n",
    "    @property\n",
    "    def y(self):\n",
    "        return self._y"
   ]
  },
  {
   "cell_type": "code",
   "execution_count": 20,
   "id": "bf03c0b4-7d5b-4215-9575-64f681f1a5d8",
   "metadata": {
    "tags": []
   },
   "outputs": [
    {
     "data": {
      "text/plain": [
       "1"
      ]
     },
     "execution_count": 20,
     "metadata": {},
     "output_type": "execute_result"
    }
   ],
   "source": [
    "point = Point(1,2)\n",
    "point.x"
   ]
  },
  {
   "cell_type": "markdown",
   "id": "6849e70c-8e6c-4738-b714-bf1ae2ad0c6a",
   "metadata": {
    "user_expressions": []
   },
   "source": [
    "Now try to change the value:"
   ]
  },
  {
   "cell_type": "code",
   "execution_count": 21,
   "id": "685662a3-dfef-4666-9d6c-51ceb3e7355a",
   "metadata": {
    "tags": []
   },
   "outputs": [
    {
     "ename": "AttributeError",
     "evalue": "can't set attribute 'x'",
     "output_type": "error",
     "traceback": [
      "\u001b[0;31m---------------------------------------------------------------------------\u001b[0m",
      "\u001b[0;31mAttributeError\u001b[0m                            Traceback (most recent call last)",
      "Cell \u001b[0;32mIn[21], line 1\u001b[0m\n\u001b[0;32m----> 1\u001b[0m \u001b[43mpoint\u001b[49m\u001b[38;5;241;43m.\u001b[39;49m\u001b[43mx\u001b[49m \u001b[38;5;241m=\u001b[39m \u001b[38;5;241m3\u001b[39m\n",
      "\u001b[0;31mAttributeError\u001b[0m: can't set attribute 'x'"
     ]
    }
   ],
   "source": [
    "point.x = 3"
   ]
  },
  {
   "cell_type": "markdown",
   "id": "7a918082-9085-45d4-9800-e3b31e335768",
   "metadata": {
    "user_expressions": []
   },
   "source": [
    "Not only you can not change the values of the attributes **x** and **y**, but also you can not delete them:"
   ]
  },
  {
   "cell_type": "code",
   "execution_count": 22,
   "id": "49ea479e-83ec-41ca-8886-4a78a71e217a",
   "metadata": {
    "tags": []
   },
   "outputs": [
    {
     "ename": "AttributeError",
     "evalue": "can't delete attribute 'x'",
     "output_type": "error",
     "traceback": [
      "\u001b[0;31m---------------------------------------------------------------------------\u001b[0m",
      "\u001b[0;31mAttributeError\u001b[0m                            Traceback (most recent call last)",
      "Cell \u001b[0;32mIn[22], line 1\u001b[0m\n\u001b[0;32m----> 1\u001b[0m \u001b[38;5;28;01mdel\u001b[39;00m point\u001b[38;5;241m.\u001b[39mx\n",
      "\u001b[0;31mAttributeError\u001b[0m: can't delete attribute 'x'"
     ]
    }
   ],
   "source": [
    "del point.x"
   ]
  },
  {
   "cell_type": "markdown",
   "id": "faf915c3-5389-491f-a3e1-0f8429d6b735",
   "metadata": {
    "user_expressions": []
   },
   "source": [
    "The reason for this is that if you do not implement the \"**setter**\" and \"**deleter*\" methods, by default\n",
    "when you try to modify or delete the attributes it will rise the **AttributeError**."
   ]
  },
  {
   "cell_type": "markdown",
   "id": "715e9364-92bf-4a9a-b570-3e5ece888f6d",
   "metadata": {
    "user_expressions": []
   },
   "source": [
    "You can take this implementation of the Point class a little bit further and provide explicit setter methods that raise a custom exception with more elaborate and specific messages:"
   ]
  },
  {
   "cell_type": "code",
   "execution_count": 23,
   "id": "20b11c21-5af0-4ecd-8a1d-052d751015af",
   "metadata": {
    "tags": []
   },
   "outputs": [],
   "source": [
    "# Lets define a custom Error Exception.\n",
    "# Instead of the default \"AttrubuteError\", we want our class respond with some message.\n",
    "class WriteCoordinateError(Exception):\n",
    "    pass\n",
    "\n",
    "class Point:\n",
    "    def __init__(self, x, y):\n",
    "        self._x = x\n",
    "        self._y = y\n",
    "\n",
    "    @property\n",
    "    def x(self):\n",
    "        return self._x\n",
    "\n",
    "    @x.setter\n",
    "    def x(self, value):\n",
    "        raise WriteCoordinateError(\"x coordinate is read-only\")\n",
    "\n",
    "    @property\n",
    "    def y(self):\n",
    "        return self._y\n",
    "\n",
    "    @y.setter\n",
    "    def y(self, value):\n",
    "        raise WriteCoordinateError(\"y coordinate is read-only\")"
   ]
  },
  {
   "cell_type": "markdown",
   "id": "ecbca317-0da5-4b83-9ec9-a20fb3c15a8f",
   "metadata": {
    "user_expressions": []
   },
   "source": [
    "## Providing Write-Only Attributes\n",
    "You can also create **write-only** attributes by tweaking how you implement the getter method of your properties. For example, you can make your getter method raise an exception every time a user accesses the underlying attribute value.\n",
    "\n",
    "Here’s an example of handling passwords with a write-only property:"
   ]
  },
  {
   "cell_type": "code",
   "execution_count": 25,
   "id": "745ec8f8-bfa9-41a7-aa19-f01523110eaf",
   "metadata": {
    "tags": []
   },
   "outputs": [],
   "source": [
    "# users.py\n",
    "\n",
    "import hashlib\n",
    "import os\n",
    "\n",
    "class User:\n",
    "    def __init__(self, username, password):\n",
    "        self.username = username\n",
    "        self.password = password\n",
    "\n",
    "    @property\n",
    "    def password(self):\n",
    "        raise AttributeError(\"Password is write-only\")\n",
    "\n",
    "    @password.setter\n",
    "    def password(self, plaintext):\n",
    "        salt = os.urandom(32)\n",
    "        self._hashed_password = hashlib.pbkdf2_hmac(\n",
    "            \"sha256\", plaintext.encode(\"utf-8\"), salt, 100_000\n",
    "        )"
   ]
  },
  {
   "cell_type": "code",
   "execution_count": 26,
   "id": "ecf56fd7-a6e7-47fc-abab-7eda2ecc5835",
   "metadata": {
    "tags": []
   },
   "outputs": [
    {
     "ename": "AttributeError",
     "evalue": "Password is write-only",
     "output_type": "error",
     "traceback": [
      "\u001b[0;31m---------------------------------------------------------------------------\u001b[0m",
      "\u001b[0;31mAttributeError\u001b[0m                            Traceback (most recent call last)",
      "Cell \u001b[0;32mIn[26], line 2\u001b[0m\n\u001b[1;32m      1\u001b[0m peter \u001b[38;5;241m=\u001b[39m User(\u001b[38;5;124m'\u001b[39m\u001b[38;5;124mpcompton\u001b[39m\u001b[38;5;124m'\u001b[39m,\u001b[38;5;124m'\u001b[39m\u001b[38;5;124mhis new password\u001b[39m\u001b[38;5;124m'\u001b[39m)\n\u001b[0;32m----> 2\u001b[0m \u001b[43mpeter\u001b[49m\u001b[38;5;241;43m.\u001b[39;49m\u001b[43mpassword\u001b[49m\n",
      "Cell \u001b[0;32mIn[25], line 13\u001b[0m, in \u001b[0;36mUser.password\u001b[0;34m(self)\u001b[0m\n\u001b[1;32m     11\u001b[0m \u001b[38;5;129m@property\u001b[39m\n\u001b[1;32m     12\u001b[0m \u001b[38;5;28;01mdef\u001b[39;00m \u001b[38;5;21mpassword\u001b[39m(\u001b[38;5;28mself\u001b[39m):\n\u001b[0;32m---> 13\u001b[0m     \u001b[38;5;28;01mraise\u001b[39;00m \u001b[38;5;167;01mAttributeError\u001b[39;00m(\u001b[38;5;124m\"\u001b[39m\u001b[38;5;124mPassword is write-only\u001b[39m\u001b[38;5;124m\"\u001b[39m)\n",
      "\u001b[0;31mAttributeError\u001b[0m: Password is write-only"
     ]
    }
   ],
   "source": [
    "peter = User('pcompton','his new password')\n",
    "peter.password"
   ]
  },
  {
   "cell_type": "code",
   "execution_count": 27,
   "id": "c93340eb-40ca-4e6f-9e19-d33c81463275",
   "metadata": {
    "tags": []
   },
   "outputs": [
    {
     "data": {
      "text/plain": [
       "b\"P;\\xe5[\\xe0'a4\\xe7\\x82\\xd8\\x88\\x15\\xe0\\xb2\\x82f\\x93e\\x04X.\\xc8u\\xec\\xe2G\\xee\\xd5/\\x9d\\x12\""
      ]
     },
     "execution_count": 27,
     "metadata": {},
     "output_type": "execute_result"
    }
   ],
   "source": [
    "peter._hashed_password"
   ]
  },
  {
   "cell_type": "markdown",
   "id": "d74d7b39-5f7f-4be5-9ca5-ca2684479a4c",
   "metadata": {
    "user_expressions": []
   },
   "source": [
    "## Putting Python’s property() Into Action\n",
    "So far, you’ve learned how to use Python’s **property()** built-in function to create managed attributes in your classes. You used **property()** as a function and as a decorator and learned about the differences between these two approaches. You also learned how to create **read-only**, **read-write**, and **write-only** attributes.\n",
    "\n",
    "In the following sections, you’ll code a few examples that will help you get a better practical understanding of common use cases of **property()**.\n",
    "\n",
    "### Validating Input Values\n",
    "One of the most common use cases of **property()** is building managed attributes that validate the input data before storing or even accepting it as a secure input. Data validation is a common requirement in code that takes input from users or other information sources that you consider untrusted.\n",
    "\n",
    "Python’s **property()** provides a quick and reliable tool for dealing with input data validation. For example, thinking back to the Point example, you may require the values of .x and .y to be valid numbers. Since your users are free to enter any type of data, you need to make sure that your point only accepts numbers.\n",
    "\n",
    "Here’s an implementation of Point that manages this requirement:"
   ]
  },
  {
   "cell_type": "code",
   "execution_count": 28,
   "id": "b6356b47-2adc-49db-a27c-eb677fc07ccb",
   "metadata": {
    "tags": []
   },
   "outputs": [],
   "source": [
    "class Point:\n",
    "    def __init__(self, x, y):\n",
    "        self.x = x\n",
    "        self.y = y\n",
    "\n",
    "    @property\n",
    "    def x(self):\n",
    "        return self._x\n",
    "\n",
    "    @x.setter\n",
    "    def x(self, value):\n",
    "        try:\n",
    "            self._x = float(value)\n",
    "            print(\"Validated!\")\n",
    "        except ValueError:\n",
    "            raise ValueError('\"x\" must be a number') from None\n",
    "\n",
    "    @property\n",
    "    def y(self):\n",
    "        return self._y\n",
    "\n",
    "    @y.setter\n",
    "    def y(self, value):\n",
    "        try:\n",
    "            self._y = float(value)\n",
    "            print(\"Validated!\")\n",
    "        except ValueError:\n",
    "            raise ValueError('\"y\" must be a number') from None"
   ]
  },
  {
   "cell_type": "markdown",
   "id": "ffe1285d-606e-41aa-897e-1bfc13605cb5",
   "metadata": {
    "user_expressions": []
   },
   "source": [
    "The setter methods of **.x** and **.y** use **try … except** blocks that validate input data using the Python [EAFP](<https://docs.python.org/3/glossary.html#term-eafp>) style. If the call to **float()** succeeds, then the input data is valid, and you get Validated! on your screen. If **float()** raises a ValueError, then the user gets a ValueError with a more specific message.\n",
    "\n",
    "```{note}\n",
    "In the example above, you use the syntax **raise … from None** to hide internal details related to the context in which you’re raising the exception. From the end user’s viewpoint, these details can be confusing and make your class look unpolished.\n",
    "\n",
    "Check out the section on the raise statement in the documentation for more information about this topic.\n",
    "```\n",
    "It’s important to note that assigning the **.x** and **.y** properties directly in **.\\__init\\__()** ensures that the validation also occurs during object initialization. Not doing so is a common mistake when using **property()** for data validation.\n",
    "\n",
    "Here’s how your Point class works now:"
   ]
  },
  {
   "cell_type": "code",
   "execution_count": 29,
   "id": "fde91996-838d-4b8d-b088-06cdddae9109",
   "metadata": {
    "tags": []
   },
   "outputs": [
    {
     "name": "stdout",
     "output_type": "stream",
     "text": [
      "Validated!\n",
      "Validated!\n"
     ]
    }
   ],
   "source": [
    "point = Point(100,200)"
   ]
  },
  {
   "cell_type": "code",
   "execution_count": 30,
   "id": "017001dc-5b8e-46d8-8a9b-142fe4074646",
   "metadata": {
    "tags": []
   },
   "outputs": [
    {
     "name": "stdout",
     "output_type": "stream",
     "text": [
      "Validated!\n"
     ]
    }
   ],
   "source": [
    "point.x = 150"
   ]
  },
  {
   "cell_type": "code",
   "execution_count": 31,
   "id": "3529490a-88fe-4f82-a94e-47bf412b68ba",
   "metadata": {
    "tags": []
   },
   "outputs": [
    {
     "name": "stdout",
     "output_type": "stream",
     "text": [
      "Validated!\n"
     ]
    }
   ],
   "source": [
    "point.y = 160.0"
   ]
  },
  {
   "cell_type": "code",
   "execution_count": 32,
   "id": "14e7cc23-264b-4c2c-bc79-bc80dbe364d8",
   "metadata": {
    "tags": []
   },
   "outputs": [
    {
     "ename": "ValueError",
     "evalue": "\"x\" must be a number",
     "output_type": "error",
     "traceback": [
      "\u001b[0;31m---------------------------------------------------------------------------\u001b[0m",
      "\u001b[0;31mValueError\u001b[0m                                Traceback (most recent call last)",
      "Cell \u001b[0;32mIn[32], line 1\u001b[0m\n\u001b[0;32m----> 1\u001b[0m \u001b[43mpoint\u001b[49m\u001b[38;5;241;43m.\u001b[39;49m\u001b[43mx\u001b[49m \u001b[38;5;241m=\u001b[39m \u001b[38;5;124m\"\u001b[39m\u001b[38;5;124mFive\u001b[39m\u001b[38;5;124m\"\u001b[39m\n",
      "Cell \u001b[0;32mIn[28], line 16\u001b[0m, in \u001b[0;36mPoint.x\u001b[0;34m(self, value)\u001b[0m\n\u001b[1;32m     14\u001b[0m     \u001b[38;5;28mprint\u001b[39m(\u001b[38;5;124m\"\u001b[39m\u001b[38;5;124mValidated!\u001b[39m\u001b[38;5;124m\"\u001b[39m)\n\u001b[1;32m     15\u001b[0m \u001b[38;5;28;01mexcept\u001b[39;00m \u001b[38;5;167;01mValueError\u001b[39;00m:\n\u001b[0;32m---> 16\u001b[0m     \u001b[38;5;28;01mraise\u001b[39;00m \u001b[38;5;167;01mValueError\u001b[39;00m(\u001b[38;5;124m'\u001b[39m\u001b[38;5;124m\"\u001b[39m\u001b[38;5;124mx\u001b[39m\u001b[38;5;124m\"\u001b[39m\u001b[38;5;124m must be a number\u001b[39m\u001b[38;5;124m'\u001b[39m) \u001b[38;5;28;01mfrom\u001b[39;00m \u001b[38;5;28;01mNone\u001b[39;00m\n",
      "\u001b[0;31mValueError\u001b[0m: \"x\" must be a number"
     ]
    }
   ],
   "source": [
    "point.x = \"Five\""
   ]
  },
  {
   "cell_type": "markdown",
   "id": "08b9ddcb-763d-4d7e-b71c-2bdbef925794",
   "metadata": {
    "user_expressions": []
   },
   "source": [
    "The above code has uncovers a fundamental weakness of **property()** : The repetitive code that follows specific patterns. This repetition breaks the **DRY (Don’t Repeat Yourself)** principle, so you would want to refactor this code to avoid it. To do so, you can abstract out the repetitive logic using a descriptor:"
   ]
  },
  {
   "cell_type": "code",
   "execution_count": 33,
   "id": "cd3d6a42-676e-469f-ace9-0ada179b9451",
   "metadata": {
    "tags": []
   },
   "outputs": [],
   "source": [
    "class Coordinate:\n",
    "    def __set_name__(self, owner, name):\n",
    "        self._name = name\n",
    "\n",
    "    def __get__(self, instance, owner):\n",
    "        return instance.__dict__[self._name]\n",
    "\n",
    "    def __set__(self, instance, value):\n",
    "        try:\n",
    "            instance.__dict__[self._name] = float(value)\n",
    "            print(\"Validated!\")\n",
    "        except ValueError:\n",
    "            raise ValueError(f'\"{self._name}\" must be a number') from None\n",
    "\n",
    "class Point:\n",
    "    x = Coordinate()\n",
    "    y = Coordinate()\n",
    "\n",
    "    def __init__(self, x, y):\n",
    "        self.x = x\n",
    "        self.y = y"
   ]
  },
  {
   "cell_type": "markdown",
   "id": "f1aca9f6-3000-4d20-9fdb-ad9f1ea6df00",
   "metadata": {
    "user_expressions": []
   },
   "source": [
    "Now your code is a bit shorter. You managed to remove repetitive code by defining Coordinate as a descriptor that manages your data validation in a single place. The code works just like your earlier implementation. Go ahead and give it a try!\n",
    "\n",
    "In general, if you find yourself copying and pasting property definitions all around your code or if you spot repetitive code like in the example above, then you should consider using a proper descriptor."
   ]
  },
  {
   "cell_type": "markdown",
   "id": "b02f7508-fdd1-472b-ad89-1c6327589628",
   "metadata": {
    "user_expressions": []
   },
   "source": [
    "## Providing Computed Attributes\n",
    "If you need an attribute that builds its value dynamically whenever you access it, then property() is the way to go. These kinds of attributes are commonly known as **computed attributes**.\n",
    "They’re handy when you need them to look like [eager](<https://en.wikipedia.org/wiki/Evaluation_strategy#Eager_evaluation>) attributes, but you want them to be [lazy](<https://en.wikipedia.org/wiki/Lazy_evaluation>).\n",
    "\n",
    "Here’s an example of how to use property() to create a computed attribute .area in a Rectangle class:\n",
    "```python\n",
    "class Rectangle:\n",
    "    def __init__(self, width, height):\n",
    "        self.width = width\n",
    "        self.height = height\n",
    "\n",
    "    @property\n",
    "    def area(self):\n",
    "        return self.width * self.height\n",
    "```\n",
    "\n",
    "In this example, the Rectangle initializer takes width and height as arguments and stores them in regular instance attributes. The read-only property .area computes and returns the area of the current rectangle every time you access it.\n",
    "\n",
    "Another common use case of properties is to provide an auto-formatted value for a given attribute:\n",
    "\n",
    "```python\n",
    "class Product:\n",
    "    def __init__(self, name, price):\n",
    "        self._name = name\n",
    "        self._price = float(price)\n",
    "\n",
    "    @property\n",
    "    def price(self):\n",
    "        return f\"${self._price:,.2f}\"\n",
    "```\n",
    "\n",
    "In this example, **.price** is a property that formats and returns the price of a particular product. To provide a currency-like format, you use an **f-string** with appropriate formatting options.\n",
    "\n",
    "```{note}\n",
    "This example uses floating-point numbers to represent currencies, which is bad practice. Instead, you should use [decimal.Decimal](<https://docs.python.org/3/library/decimal.html#decimal.Decimal>) from the standard library.\n",
    "```\n",
    "As a final example of computed attributes, say you have a **Point** class that uses .x and .y as Cartesian coordinates. You want to provide polar coordinates for your point so that you can use them in a few computations. The polar coordinate system represents each point using the distance to the origin and the angle with the horizontal coordinate axis.\n",
    "\n",
    "Here’s a Cartesian coordinates Point class that also provides computed polar coordinates:\n"
   ]
  },
  {
   "cell_type": "code",
   "execution_count": 34,
   "id": "82baa821-e756-4f02-9686-32df3c26a0fe",
   "metadata": {
    "tags": []
   },
   "outputs": [],
   "source": [
    "import math\n",
    "\n",
    "class Point:\n",
    "    def __init__(self, x, y):\n",
    "        self.x = x\n",
    "        self.y = y\n",
    "\n",
    "    @property\n",
    "    def distance(self):\n",
    "        return round(math.dist((0, 0), (self.x, self.y)))\n",
    "\n",
    "    @property\n",
    "    def angle(self):\n",
    "        return round(math.degrees(math.atan(self.y / self.x)), 1)\n",
    "\n",
    "    def as_cartesian(self):\n",
    "        return self.x, self.y\n",
    "\n",
    "    def as_polar(self):\n",
    "        return self.distance, self.angle"
   ]
  },
  {
   "cell_type": "markdown",
   "id": "81f1f786-9c3d-4ce5-a297-9d58fadf3b1f",
   "metadata": {
    "user_expressions": []
   },
   "source": [
    "When it comes to providing computed or lazy attributes, property() is a pretty handy tool. However, if you’re creating an attribute that you use frequently, then computing it every time can be costly and wasteful. A good strategy is to cache them once the computation is done."
   ]
  },
  {
   "cell_type": "markdown",
   "id": "5aeeeb08-bd99-4a20-8592-1832d906084b",
   "metadata": {
    "user_expressions": []
   },
   "source": [
    "## Caching Computed Attributes\n",
    "... Need some work here. I don't understand how the how the **cached_property** and **cache** from the **functools** module works."
   ]
  },
  {
   "cell_type": "markdown",
   "id": "ad386a81-0da7-42f6-bc8b-c3763106c4fb",
   "metadata": {
    "user_expressions": []
   },
   "source": [
    "## Logging Attribute Access and Mutation"
   ]
  },
  {
   "cell_type": "markdown",
   "id": "19a142df-1441-47f1-82e2-e2edf4606afd",
   "metadata": {
    "user_expressions": []
   },
   "source": [
    "Sometimes you need to keep track of what your code does and how your programs flow. A way to do that in Python is to use logging. This module provides all the functionality you would require for [logging](<https://realpython.com/python-logging/>) your code. It’ll allow you to constantly watch the code and generate useful information about how it works.\n",
    "\n",
    "If you ever need to keep track of how and when you access and mutate a given attribute, then you can take advantage of **property()** for that, too:"
   ]
  },
  {
   "cell_type": "code",
   "execution_count": 35,
   "id": "b93ec029-7451-4d0e-98f2-6ffdc6010bb0",
   "metadata": {
    "tags": []
   },
   "outputs": [],
   "source": [
    "import logging\n",
    "\n",
    "logging.basicConfig(\n",
    "    format=\"%(asctime)s: %(message)s\",\n",
    "    level=logging.INFO,\n",
    "    datefmt=\"%H:%M:%S\"\n",
    ")\n",
    "\n",
    "class Circle:\n",
    "    def __init__(self, radius):\n",
    "        self._msg = '\"radius\" was %s. Current value: %s'\n",
    "        self.radius = radius\n",
    "\n",
    "    @property\n",
    "    def radius(self):\n",
    "        \"\"\"The radius property.\"\"\"\n",
    "        logging.info(self._msg % (\"accessed\", str(self._radius)))\n",
    "        return self._radius\n",
    "\n",
    "    @radius.setter\n",
    "    def radius(self, value):\n",
    "        try:\n",
    "            self._radius = float(value)\n",
    "            logging.info(self._msg % (\"mutated\", str(self._radius)))\n",
    "        except ValueError:\n",
    "            logging.info('validation error while mutating \"radius\"')"
   ]
  },
  {
   "cell_type": "markdown",
   "id": "0666898e-a918-45bc-9f77-11c64f2cce00",
   "metadata": {
    "user_expressions": []
   },
   "source": [
    "Here, you first import **logging** and define a basic configuration. Then you implement **Circle** with a managed attribute **.radius**. The getter method generates log information every time you access **.radius** in your code. The setter method logs each mutation that you perform on **.radius**. It also logs those situations in which you get an error because of bad input data.\n",
    "\n",
    "Here’s how you can use **Circle** in your code:"
   ]
  },
  {
   "cell_type": "code",
   "execution_count": 36,
   "id": "22be16e9-0459-472e-aa19-6e227b02ea0d",
   "metadata": {
    "tags": []
   },
   "outputs": [
    {
     "name": "stderr",
     "output_type": "stream",
     "text": [
      "16:02:24: \"radius\" was mutated. Current value: 42.0\n"
     ]
    }
   ],
   "source": [
    "circle = Circle(42.0)"
   ]
  },
  {
   "cell_type": "code",
   "execution_count": 37,
   "id": "92d33ee5-6464-4659-9942-38f836d1a2be",
   "metadata": {
    "tags": []
   },
   "outputs": [
    {
     "name": "stderr",
     "output_type": "stream",
     "text": [
      "16:02:46: \"radius\" was mutated. Current value: 100.0\n"
     ]
    }
   ],
   "source": [
    "circle.radius = 100"
   ]
  },
  {
   "cell_type": "code",
   "execution_count": 38,
   "id": "7a419382-e12b-4f07-99ed-ef1c82253950",
   "metadata": {
    "tags": []
   },
   "outputs": [
    {
     "name": "stderr",
     "output_type": "stream",
     "text": [
      "16:03:08: validation error while mutating \"radius\"\n"
     ]
    }
   ],
   "source": [
    "circle.radius = \"value\""
   ]
  },
  {
   "cell_type": "markdown",
   "id": "f6d9e830-6037-4710-89fb-6872b4b9cd68",
   "metadata": {
    "user_expressions": []
   },
   "source": [
    "Logging useful data from attribute access and mutation can help you debug your code. Logging can also help you identify sources of problematic data input, analyze the performance of your code, spot usage patterns, and more."
   ]
  },
  {
   "cell_type": "code",
   "execution_count": null,
   "id": "37ba3130-37da-46ff-ac73-d8d11c8adbb0",
   "metadata": {},
   "outputs": [],
   "source": []
  }
 ],
 "metadata": {
  "kernelspec": {
   "display_name": "Python 3 (ipykernel)",
   "language": "python",
   "name": "python3"
  },
  "language_info": {
   "codemirror_mode": {
    "name": "ipython",
    "version": 3
   },
   "file_extension": ".py",
   "mimetype": "text/x-python",
   "name": "python",
   "nbconvert_exporter": "python",
   "pygments_lexer": "ipython3",
   "version": "3.10.12"
  }
 },
 "nbformat": 4,
 "nbformat_minor": 5
}
